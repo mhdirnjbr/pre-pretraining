{
 "cells": [
  {
   "cell_type": "code",
   "execution_count": 35,
   "id": "dfe6b5ad",
   "metadata": {},
   "outputs": [],
   "source": [
    "import fire\n",
    "import numpy as np\n",
    "import os\n",
    "import random\n",
    "from tqdm import trange\n",
    "from grammar import generate_dyck_txt_file"
   ]
  },
  {
   "cell_type": "code",
   "execution_count": 36,
   "id": "685c012a",
   "metadata": {},
   "outputs": [],
   "source": [
    "n=15_000\n",
    "target_length=2048 # n * target_length ~ 30M tokens\n",
    "min_depth = 1\n",
    "max_depth = 16\n",
    "num_symbols = 128 # vocab size = 256"
   ]
  },
  {
   "cell_type": "code",
   "execution_count": null,
   "id": "e4e57243",
   "metadata": {},
   "outputs": [
    {
     "name": "stdout",
     "output_type": "stream",
     "text": [
      "100%|████████████████████████████████████████| 100/100 [00:00<00:00, 100.43it/s]\n"
     ]
    }
   ],
   "source": [
    "!python grammar.py generate_dyck \\\n",
    "    --file_dir ./data/1-dyck \\\n",
    "    --num_symbols 1 \\\n",
    "    --n 15000 \\\n",
    "    --target_length 2048 \\\n",
    "    --min_depth 1 \\\n",
    "    --max_depth 16 \\\n",
    "    --split train"
   ]
  },
  {
   "cell_type": "code",
   "execution_count": null,
   "id": "da9eacdc",
   "metadata": {},
   "outputs": [],
   "source": []
  }
 ],
 "metadata": {
  "kernelspec": {
   "display_name": "dlp",
   "language": "python",
   "name": "python3"
  },
  "language_info": {
   "codemirror_mode": {
    "name": "ipython",
    "version": 3
   },
   "file_extension": ".py",
   "mimetype": "text/x-python",
   "name": "python",
   "nbconvert_exporter": "python",
   "pygments_lexer": "ipython3",
   "version": "3.10.18"
  }
 },
 "nbformat": 4,
 "nbformat_minor": 5
}
